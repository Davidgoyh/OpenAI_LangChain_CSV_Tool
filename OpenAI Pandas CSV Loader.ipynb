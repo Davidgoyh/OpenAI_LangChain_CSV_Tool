{
 "cells": [
  {
   "cell_type": "code",
   "execution_count": null,
   "id": "f0404b06",
   "metadata": {
    "scrolled": true
   },
   "outputs": [],
   "source": [
    "##for Installation package\n",
    "pip install openai"
   ]
  },
  {
   "cell_type": "code",
   "execution_count": null,
   "id": "76fd635f",
   "metadata": {},
   "outputs": [],
   "source": [
    "import openai\n",
    "from langchain.agents import load_tools\n",
    "from langchain.agents import initialize_agent\n",
    "from langchain.llms import OpenAI"
   ]
  },
  {
   "cell_type": "code",
   "execution_count": null,
   "id": "9dab2de3",
   "metadata": {},
   "outputs": [],
   "source": [
    "import os\n",
    "os.environ[\"OPENAI_API_KEY\"] = \"sk-xxxxxxxxxxxxxxxxxxxxxxxxxxx\""
   ]
  },
  {
   "cell_type": "code",
   "execution_count": null,
   "id": "25755469",
   "metadata": {},
   "outputs": [],
   "source": [
    "#llm = OpenAI(model_name=\"text-davinci-003\", n=2, best_of=2)\n",
    "llm = OpenAI(temperature=0)"
   ]
  },
  {
   "cell_type": "code",
   "execution_count": null,
   "id": "25642424",
   "metadata": {},
   "outputs": [],
   "source": [
    "#get model list from OpenAI API\n",
    "import os\n",
    "import openai\n",
    "openai.api_key = os.getenv(\"OPENAI_API_KEY\")\n",
    "openai.Model.list()\n"
   ]
  },
  {
   "cell_type": "code",
   "execution_count": null,
   "id": "d4594f6b",
   "metadata": {},
   "outputs": [],
   "source": [
    "llm(\"how old are you\") #test code"
   ]
  },
  {
   "cell_type": "code",
   "execution_count": null,
   "id": "563c29e0",
   "metadata": {},
   "outputs": [],
   "source": [
    "from langchain.agents import create_pandas_dataframe_agent"
   ]
  },
  {
   "cell_type": "code",
   "execution_count": null,
   "id": "bd9a5d1f",
   "metadata": {},
   "outputs": [],
   "source": [
    "from langchain.llms import OpenAI\n",
    "import pandas as pd\n",
    "\n",
    "df = pd.read_csv('option with AI.csv')\n",
    "display(df)"
   ]
  },
  {
   "cell_type": "code",
   "execution_count": null,
   "id": "a9837480",
   "metadata": {},
   "outputs": [],
   "source": [
    "agent = create_pandas_dataframe_agent(OpenAI(temperature=0), df, verbose=True)"
   ]
  },
  {
   "cell_type": "code",
   "execution_count": null,
   "id": "b4993472",
   "metadata": {},
   "outputs": [],
   "source": [
    "agent.run(\"count each entries in block 1 to block 6, and list them out\")"
   ]
  },
  {
   "cell_type": "code",
   "execution_count": null,
   "id": "804ffe77",
   "metadata": {},
   "outputs": [],
   "source": []
  }
 ],
 "metadata": {
  "kernelspec": {
   "display_name": "Python 3 (ipykernel)",
   "language": "python",
   "name": "python3"
  },
  "language_info": {
   "codemirror_mode": {
    "name": "ipython",
    "version": 3
   },
   "file_extension": ".py",
   "mimetype": "text/x-python",
   "name": "python",
   "nbconvert_exporter": "python",
   "pygments_lexer": "ipython3",
   "version": "3.10.9"
  }
 },
 "nbformat": 4,
 "nbformat_minor": 5
}
